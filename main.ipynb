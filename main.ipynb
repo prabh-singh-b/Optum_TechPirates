{
 "cells": [
  {
   "cell_type": "code",
   "execution_count": 2,
   "id": "61beb5bc",
   "metadata": {},
   "outputs": [],
   "source": [
    "import pandas as pd\n",
    "import numpy as np\n",
    "import statistics\n",
    "import matplotlib.pyplot as plt\n",
    "from scipy import stats\n",
    "import seaborn as sns\n",
    "from sklearn import model_selection\n",
    "from sklearn.linear_model import LogisticRegression\n",
    "from sklearn.model_selection import train_test_split"
   ]
  },
  {
   "cell_type": "code",
   "execution_count": 3,
   "id": "513be9a6",
   "metadata": {},
   "outputs": [],
   "source": [
    "patient = pd.read_csv('./csv/patients.csv')\n",
    "observations = pd.read_csv('./csv/observations.csv')\n",
    "medications = pd.read_csv('./csv/medications.csv')"
   ]
  },
  {
   "cell_type": "code",
   "execution_count": 4,
   "id": "783a829a",
   "metadata": {},
   "outputs": [],
   "source": [
    "patient=patient.dropna(axis='columns')"
   ]
  },
  {
   "cell_type": "code",
   "execution_count": null,
   "id": "7e3f4717",
   "metadata": {},
   "outputs": [],
   "source": [
    "patient.describe()"
   ]
  },
  {
   "cell_type": "code",
   "execution_count": null,
   "id": "add12b12",
   "metadata": {},
   "outputs": [],
   "source": [
    "patient.head(5)"
   ]
  },
  {
   "cell_type": "code",
   "execution_count": null,
   "id": "ab481d1b",
   "metadata": {},
   "outputs": [],
   "source": [
    "sns.boxplot(patient['X'])"
   ]
  },
  {
   "cell_type": "code",
   "execution_count": null,
   "id": "94bd792c",
   "metadata": {},
   "outputs": [],
   "source": [
    "sns.boxplot(patient[\"Y\"])"
   ]
  },
  {
   "cell_type": "code",
   "execution_count": null,
   "id": "2a81bab4",
   "metadata": {},
   "outputs": [],
   "source": [
    "#print(np.where(patient['X']>100000))\n",
    "#print(np.where(patient['Y']>1000000))\n",
    "upper = np.where((patient['X']>100000) & (patient['Y'] >1000000))\n",
    "print(upper)"
   ]
  },
  {
   "cell_type": "code",
   "execution_count": null,
   "id": "2f6c5865",
   "metadata": {},
   "outputs": [],
   "source": [
    "z = statistics.mean(np.abs(stats.zscore(patient['X'])))\n",
    "print(z)"
   ]
  },
  {
   "cell_type": "code",
   "execution_count": 5,
   "id": "165ec63b",
   "metadata": {},
   "outputs": [],
   "source": [
    "patient = patient.rename(columns={\"HEALTHCARE_EXPENSES\":\"X\",\"HEALTHCARE_COVERAGE\":\"Y\"})\n",
    "#ax = sns.stripplot(patient['HEALTHCARE_EXPENSES'], patient['HEALTHCARE_COVERAGE'])\n"
   ]
  },
  {
   "cell_type": "code",
   "execution_count": 21,
   "id": "bf0e5210",
   "metadata": {},
   "outputs": [
    {
     "data": {
      "text/plain": [
       "<AxesSubplot:xlabel='X', ylabel='Y'>"
      ]
     },
     "execution_count": 21,
     "metadata": {},
     "output_type": "execute_result"
    },
    {
     "data": {
      "image/png": "[encoded data removed]",
      "text/plain": [
       "<Figure size 640x480 with 1 Axes>"
      ]
     },
     "metadata": {},
     "output_type": "display_data"
    }
   ],
   "source": [
    "patient.plot.scatter(x='X',y='Y',s=10)"
   ]
  },
  {
   "cell_type": "code",
   "execution_count": null,
   "id": "c763f891",
   "metadata": {},
   "outputs": [],
   "source": [
    "corr = patient.corr()\n",
    "\n",
    "sns.heatmap(corr, annot = True)"
   ]
  },
  {
   "cell_type": "code",
   "execution_count": null,
   "id": "9adfabae",
   "metadata": {},
   "outputs": [],
   "source": [
    "patient.drop(upper[0],inplace= True)"
   ]
  },
  {
   "cell_type": "code",
   "execution_count": null,
   "id": "f685ebc1",
   "metadata": {},
   "outputs": [],
   "source": [
    "patient.head(35)\n"
   ]
  },
  {
   "cell_type": "code",
   "execution_count": null,
   "id": "a1422788",
   "metadata": {
    "scrolled": true
   },
   "outputs": [],
   "source": [
    "corr= patient.corr()\n",
    "\n",
    "sns.heatmap(corr, annot = True)"
   ]
  },
  {
   "cell_type": "code",
   "execution_count": 6,
   "id": "596e7c41",
   "metadata": {},
   "outputs": [],
   "source": [
    "Q1 = np.percentile(patient['X'], 25,\n",
    "                   interpolation = 'midpoint')\n",
    " \n",
    "Q3 = np.percentile(patient['X'], 75,\n",
    "                   interpolation = 'midpoint')\n",
    "IQR = Q3 - Q1"
   ]
  },
  {
   "cell_type": "code",
   "execution_count": 7,
   "id": "efdd814f",
   "metadata": {},
   "outputs": [
    {
     "name": "stdout",
     "output_type": "stream",
     "text": [
      "Upper bound: 0       False\n",
      "1       False\n",
      "2       False\n",
      "3       False\n",
      "4       False\n",
      "        ...  \n",
      "1184    False\n",
      "1185    False\n",
      "1186    False\n",
      "1187    False\n",
      "1188    False\n",
      "Name: X, Length: 1189, dtype: bool\n",
      "(array([  11,   19,   27,   28,   32,   95,  100,  119,  121,  137,  154,\n",
      "        168,  170,  175,  205,  206,  212,  217,  219,  226,  228,  234,\n",
      "        236,  259,  280,  291,  298,  302,  320,  330,  335,  342,  349,\n",
      "        355,  359,  361,  365,  373,  375,  395,  397,  403,  420,  421,\n",
      "        428,  436,  438,  445,  454,  457,  461,  466,  481,  512,  519,\n",
      "        521,  526,  535,  537,  541,  544,  551,  552,  568,  572,  583,\n",
      "        584,  588,  594,  599,  601,  608,  609,  629,  639,  641,  643,\n",
      "        651,  660,  673,  699,  719,  724,  747,  761,  762,  765,  769,\n",
      "        770,  781,  782,  791,  796,  817,  830,  840,  850,  857,  869,\n",
      "        870,  884,  886,  894,  909,  910,  911,  921,  926,  928,  933,\n",
      "        940,  950,  952,  960,  970,  971,  976,  977,  980,  987,  992,\n",
      "        999, 1002, 1003, 1011, 1013, 1021, 1025, 1027, 1048, 1053, 1057,\n",
      "       1058, 1065, 1072, 1074, 1088, 1099, 1115, 1135, 1143, 1149, 1150,\n",
      "       1152, 1154, 1156, 1168, 1173, 1180, 1182], dtype=int64),)\n",
      "Lower bound: 0       False\n",
      "1       False\n",
      "2       False\n",
      "3       False\n",
      "4       False\n",
      "        ...  \n",
      "1184    False\n",
      "1185    False\n",
      "1186    False\n",
      "1187    False\n",
      "1188    False\n",
      "Name: X, Length: 1189, dtype: bool\n",
      "(array([], dtype=int64),)\n"
     ]
    }
   ],
   "source": [
    "upper = patient['X'] >= (Q3+1.5*IQR)\n",
    " \n",
    "print(\"Upper bound:\",upper)\n",
    "print(np.where(upper))\n",
    "lower = patient['X'] <= (Q1-1.5*IQR)\n",
    "print(\"Lower bound:\", lower)\n",
    "print(np.where(lower))"
   ]
  },
  {
   "cell_type": "code",
   "execution_count": 8,
   "id": "07b078c2",
   "metadata": {},
   "outputs": [],
   "source": [
    "patient.drop(np.where(upper)[0],inplace = True)"
   ]
  },
  {
   "cell_type": "code",
   "execution_count": null,
   "id": "8f103e93",
   "metadata": {},
   "outputs": [],
   "source": [
    "patient.corr()\n"
   ]
  },
  {
   "cell_type": "code",
   "execution_count": 19,
   "id": "8c0ac4b1",
   "metadata": {},
   "outputs": [
    {
     "data": {
      "text/plain": [
       "<AxesSubplot:>"
      ]
     },
     "execution_count": 19,
     "metadata": {},
     "output_type": "execute_result"
    },
    {
     "data": {
      "image/png": "[encoded data removed]",
      "text/plain": [
       "<Figure size 640x480 with 2 Axes>"
      ]
     },
     "metadata": {},
     "output_type": "display_data"
    }
   ],
   "source": [
    "corr = patient.corr()\n",
    "\n",
    "sns.heatmap(corr, annot = True)"
   ]
  },
  {
   "cell_type": "code",
   "execution_count": 10,
   "id": "8e92f09e",
   "metadata": {},
   "outputs": [
    {
     "name": "stdout",
     "output_type": "stream",
     "text": [
      "Upper bound: 0       False\n",
      "1       False\n",
      "2       False\n",
      "3       False\n",
      "4       False\n",
      "        ...  \n",
      "1184    False\n",
      "1185    False\n",
      "1186    False\n",
      "1187    False\n",
      "1188     True\n",
      "Name: Y, Length: 1039, dtype: bool\n",
      "(array([ 147,  176,  210,  282,  293,  313,  321,  402,  409,  416,  465,\n",
      "        507,  532,  538,  585,  658,  680,  776,  808,  817,  866,  885,\n",
      "        947,  982,  996, 1007, 1032, 1038], dtype=int64),)\n",
      "Lower bound: 0       False\n",
      "1       False\n",
      "2       False\n",
      "3       False\n",
      "4       False\n",
      "        ...  \n",
      "1184    False\n",
      "1185    False\n",
      "1186    False\n",
      "1187    False\n",
      "1188    False\n",
      "Name: Y, Length: 1039, dtype: bool\n",
      "(array([], dtype=int64),)\n"
     ]
    }
   ],
   "source": [
    "Q1y = np.percentile(patient['Y'], 25,\n",
    "                   interpolation = 'midpoint')\n",
    " \n",
    "Q3y = np.percentile(patient['Y'], 75,\n",
    "                   interpolation = 'midpoint')\n",
    "IQRy = Q3y - Q1y\n",
    "\n",
    "uppery = patient['Y'] >= (Q3y+1.5*IQRy)\n",
    "print(\"Upper bound:\",uppery)\n",
    "print(np.where(uppery))\n",
    "lowery = patient['Y'] <= (Q1y-1.5*IQRy)\n",
    "print(\"Lower bound:\", lowery)\n",
    "print(np.where(lowery))"
   ]
  },
  {
   "cell_type": "code",
   "execution_count": null,
   "id": "82134e0c",
   "metadata": {},
   "outputs": [],
   "source": [
    "np.where(uppery)[0]\n"
   ]
  },
  {
   "cell_type": "code",
   "execution_count": null,
   "id": "14abd789",
   "metadata": {},
   "outputs": [],
   "source": []
  },
  {
   "cell_type": "code",
   "execution_count": null,
   "id": "5e1a52ec",
   "metadata": {},
   "outputs": [],
   "source": [
    "plt.bar(patient['X'], patient['Y'], color ='maroon',\n",
    "        width = 9000)"
   ]
  },
  {
   "cell_type": "code",
   "execution_count": 16,
   "id": "8cc9a47f",
   "metadata": {},
   "outputs": [],
   "source": [
    "uppery = np.delete(uppery,19)"
   ]
  },
  {
   "cell_type": "code",
   "execution_count": 23,
   "id": "90c178c6",
   "metadata": {
    "scrolled": true
   },
   "outputs": [
    {
     "data": {
      "text/html": [
       "<div>\n",
       "<style scoped>\n",
       "    .dataframe tbody tr th:only-of-type {\n",
       "        vertical-align: middle;\n",
       "    }\n",
       "\n",
       "    .dataframe tbody tr th {\n",
       "        vertical-align: top;\n",
       "    }\n",
       "\n",
       "    .dataframe thead th {\n",
       "        text-align: right;\n",
       "    }\n",
       "</style>\n",
       "<table border=\"1\" class=\"dataframe\">\n",
       "  <thead>\n",
       "    <tr style=\"text-align: right;\">\n",
       "      <th></th>\n",
       "      <th>ZIP</th>\n",
       "      <th>LAT</th>\n",
       "      <th>LON</th>\n",
       "      <th>X</th>\n",
       "      <th>Y</th>\n",
       "      <th>INCOME</th>\n",
       "    </tr>\n",
       "  </thead>\n",
       "  <tbody>\n",
       "    <tr>\n",
       "      <th>count</th>\n",
       "      <td>1012.000000</td>\n",
       "      <td>1012.000000</td>\n",
       "      <td>1012.000000</td>\n",
       "      <td>1012.000000</td>\n",
       "      <td>1.012000e+03</td>\n",
       "      <td>1012.000000</td>\n",
       "    </tr>\n",
       "    <tr>\n",
       "      <th>mean</th>\n",
       "      <td>1526.662055</td>\n",
       "      <td>42.263205</td>\n",
       "      <td>-71.316183</td>\n",
       "      <td>43212.319486</td>\n",
       "      <td>5.269403e+05</td>\n",
       "      <td>134344.741107</td>\n",
       "    </tr>\n",
       "    <tr>\n",
       "      <th>std</th>\n",
       "      <td>931.265552</td>\n",
       "      <td>0.289864</td>\n",
       "      <td>0.606408</td>\n",
       "      <td>31667.917660</td>\n",
       "      <td>7.389315e+05</td>\n",
       "      <td>184845.630253</td>\n",
       "    </tr>\n",
       "    <tr>\n",
       "      <th>min</th>\n",
       "      <td>0.000000</td>\n",
       "      <td>41.252778</td>\n",
       "      <td>-73.326278</td>\n",
       "      <td>100.000000</td>\n",
       "      <td>0.000000e+00</td>\n",
       "      <td>1645.000000</td>\n",
       "    </tr>\n",
       "    <tr>\n",
       "      <th>25%</th>\n",
       "      <td>1025.750000</td>\n",
       "      <td>42.124599</td>\n",
       "      <td>-71.508936</td>\n",
       "      <td>16393.365000</td>\n",
       "      <td>2.565933e+04</td>\n",
       "      <td>40071.000000</td>\n",
       "    </tr>\n",
       "    <tr>\n",
       "      <th>50%</th>\n",
       "      <td>1906.000000</td>\n",
       "      <td>42.316705</td>\n",
       "      <td>-71.141640</td>\n",
       "      <td>38115.750000</td>\n",
       "      <td>1.928630e+05</td>\n",
       "      <td>79586.500000</td>\n",
       "    </tr>\n",
       "    <tr>\n",
       "      <th>75%</th>\n",
       "      <td>2169.000000</td>\n",
       "      <td>42.435777</td>\n",
       "      <td>-71.005019</td>\n",
       "      <td>64608.110000</td>\n",
       "      <td>8.583582e+05</td>\n",
       "      <td>130995.000000</td>\n",
       "    </tr>\n",
       "    <tr>\n",
       "      <th>max</th>\n",
       "      <td>2861.000000</td>\n",
       "      <td>42.863988</td>\n",
       "      <td>-69.935487</td>\n",
       "      <td>161355.490000</td>\n",
       "      <td>8.870141e+06</td>\n",
       "      <td>985063.000000</td>\n",
       "    </tr>\n",
       "  </tbody>\n",
       "</table>\n",
       "</div>"
      ],
      "text/plain": [
       "               ZIP          LAT          LON              X             Y  \\\n",
       "count  1012.000000  1012.000000  1012.000000    1012.000000  1.012000e+03   \n",
       "mean   1526.662055    42.263205   -71.316183   43212.319486  5.269403e+05   \n",
       "std     931.265552     0.289864     0.606408   31667.917660  7.389315e+05   \n",
       "min       0.000000    41.252778   -73.326278     100.000000  0.000000e+00   \n",
       "25%    1025.750000    42.124599   -71.508936   16393.365000  2.565933e+04   \n",
       "50%    1906.000000    42.316705   -71.141640   38115.750000  1.928630e+05   \n",
       "75%    2169.000000    42.435777   -71.005019   64608.110000  8.583582e+05   \n",
       "max    2861.000000    42.863988   -69.935487  161355.490000  8.870141e+06   \n",
       "\n",
       "              INCOME  \n",
       "count    1012.000000  \n",
       "mean   134344.741107  \n",
       "std    184845.630253  \n",
       "min      1645.000000  \n",
       "25%     40071.000000  \n",
       "50%     79586.500000  \n",
       "75%    130995.000000  \n",
       "max    985063.000000  "
      ]
     },
     "execution_count": 23,
     "metadata": {},
     "output_type": "execute_result"
    }
   ],
   "source": [
    "patient.describe()"
   ]
  },
  {
   "cell_type": "code",
   "execution_count": 24,
   "id": "0430197e",
   "metadata": {},
   "outputs": [
    {
     "data": {
      "text/plain": [
       "Index(['Id', 'BIRTHDATE', 'SSN', 'FIRST', 'LAST', 'RACE', 'ETHNICITY',\n",
       "       'GENDER', 'BIRTHPLACE', 'ADDRESS', 'CITY', 'STATE', 'COUNTY', 'ZIP',\n",
       "       'LAT', 'LON', 'X', 'Y', 'INCOME'],\n",
       "      dtype='object')"
      ]
     },
     "execution_count": 24,
     "metadata": {},
     "output_type": "execute_result"
    }
   ],
   "source": [
    "patient.columns"
   ]
  },
  {
   "cell_type": "code",
   "execution_count": null,
   "id": "a0a3eefa",
   "metadata": {},
   "outputs": [],
   "source": [
    "patient.drop(['BIRTHDATE','SSN','FIRST','LAST'], axis=1)"
   ]
  }
 ],
 "metadata": {
  "kernelspec": {
   "display_name": "Python 3 (ipykernel)",
   "language": "python",
   "name": "python3"
  },
  "language_info": {
   "codemirror_mode": {
    "name": "ipython",
    "version": 3
   },
   "file_extension": ".py",
   "mimetype": "text/x-python",
   "name": "python",
   "nbconvert_exporter": "python",
   "pygments_lexer": "ipython3",
   "version": "3.9.13"
  }
 },
 "nbformat": 4,
 "nbformat_minor": 5
}
