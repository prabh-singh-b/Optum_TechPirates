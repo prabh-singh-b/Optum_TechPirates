{
 "cells": [
  {
   "cell_type": "code",
   "execution_count": null,
   "id": "c1fcaf32",
   "metadata": {},
   "outputs": [],
   "source": [
    "import pandas as pd\n",
    "import numpy as np\n",
    "import statistics\n",
    "import matplotlib.pyplot as plt\n",
    "from scipy import stats\n",
    "import seaborn as sns\n",
    "from sklearn import model_selection\n",
    "from sklearn.linear_model import LogisticRegression\n",
    "from sklearn.model_selection import train_test_split"
   ]
  },
  {
   "cell_type": "code",
   "execution_count": null,
   "id": "93359814",
   "metadata": {},
   "outputs": [],
   "source": [
    "patient = pd.read_csv('./csv/patients.csv')\n",
    "observations = pd.read_csv('./csv/observations.csv')\n",
    "medications = pd.read_csv('./csv/medications.csv')"
   ]
  },
  {
   "cell_type": "code",
   "execution_count": null,
   "id": "6a17af46",
   "metadata": {},
   "outputs": [],
   "source": [
    "patient=patient.dropna(axis='columns')"
   ]
  },
  {
   "cell_type": "code",
   "execution_count": null,
   "id": "d9ded28f",
   "metadata": {},
   "outputs": [],
   "source": [
    "patient.describe()"
   ]
  },
  {
   "cell_type": "code",
   "execution_count": null,
   "id": "340c6681",
   "metadata": {},
   "outputs": [],
   "source": [
    "patient = patient.rename(columns={\"HEALTHCARE_EXPENSES\":\"X\",\"HEALTHCARE_COVERAGE\":\"Y\"})"
   ]
  },
  {
   "cell_type": "code",
   "execution_count": null,
   "id": "732b69c2",
   "metadata": {},
   "outputs": [],
   "source": [
    "sns.boxplot(patient[\"X\"])"
   ]
  },
  {
   "cell_type": "code",
   "execution_count": null,
   "id": "d25eee3f",
   "metadata": {},
   "outputs": [],
   "source": [
    "sns.boxplot(patient[\"Y\"])"
   ]
  },
  {
   "cell_type": "code",
   "execution_count": null,
   "id": "76a8ec7c",
   "metadata": {},
   "outputs": [],
   "source": [
    "patient.plot.scatter(x='X',y='Y',s=10)"
   ]
  },
  {
   "cell_type": "code",
   "execution_count": null,
   "id": "456b3fb1",
   "metadata": {},
   "outputs": [],
   "source": [
    "corr = patient.corr()\n",
    "\n",
    "sns.heatmap(corr, annot = True)"
   ]
  },
  {
   "cell_type": "code",
   "execution_count": null,
   "id": "11a97bfc",
   "metadata": {},
   "outputs": [],
   "source": [
    "Q1 = np.percentile(patient['X'], 25,\n",
    "                   interpolation = 'midpoint')\n",
    " \n",
    "Q3 = np.percentile(patient['X'], 75,\n",
    "                   interpolation = 'midpoint')\n",
    "IQR = Q3 - Q1\n",
    "\n",
    "upper = patient['X'] >= (Q3+1.5*IQR)\n",
    "print(\"Upper bound:\",upper)\n",
    "print(np.where(upper))\n",
    "lower = patient['X'] <= (Q1-1.5*IQR)\n",
    "print(\"Lower bound:\", lower)\n",
    "print(np.where(lower))"
   ]
  },
  {
   "cell_type": "code",
   "execution_count": null,
   "id": "5fdb5405",
   "metadata": {},
   "outputs": [],
   "source": [
    "patient.drop(np.where(upper)[0],inplace = True)"
   ]
  },
  {
   "cell_type": "code",
   "execution_count": null,
   "id": "a1fe480c",
   "metadata": {},
   "outputs": [],
   "source": [
    "patient.corr()\n"
   ]
  },
  {
   "cell_type": "code",
   "execution_count": null,
   "id": "331d1ff8",
   "metadata": {},
   "outputs": [],
   "source": [
    "Q1y = np.percentile(patient['Y'], 25,\n",
    "                   interpolation = 'midpoint')\n",
    " \n",
    "Q3y = np.percentile(patient['Y'], 75,\n",
    "                   interpolation = 'midpoint')\n",
    "IQRy = Q3y - Q1y\n",
    "\n",
    "uppery = patient['Y'] >= (Q3y+1.5*IQRy)\n",
    "print(\"Upper bound:\",uppery)\n",
    "print(np.where(uppery))\n",
    "lowery = patient['Y'] <= (Q1y-1.5*IQRy)\n",
    "print(\"Lower bound:\", lowery)\n",
    "print(np.where(lowery))"
   ]
  },
  {
   "cell_type": "code",
   "execution_count": null,
   "id": "2dedfc78",
   "metadata": {},
   "outputs": [],
   "source": [
    "patient.drop(np.where(uppery)[0],inplace=True)"
   ]
  },
  {
   "cell_type": "code",
   "execution_count": null,
   "id": "c696e5cf",
   "metadata": {},
   "outputs": [],
   "source": [
    "plt.bar(patient['X'], patient['Y'], color ='maroon',\n",
    "        width = 9000)"
   ]
  }
 ],
 "metadata": {
  "kernelspec": {
   "display_name": "Python 3 (ipykernel)",
   "language": "python",
   "name": "python3"
  },
  "language_info": {
   "codemirror_mode": {
    "name": "ipython",
    "version": 3
   },
   "file_extension": ".py",
   "mimetype": "text/x-python",
   "name": "python",
   "nbconvert_exporter": "python",
   "pygments_lexer": "ipython3",
   "version": "3.9.13"
  }
 },
 "nbformat": 4,
 "nbformat_minor": 5
}
